{
 "cells": [
  {
   "cell_type": "code",
   "execution_count": 4,
   "id": "94940081",
   "metadata": {},
   "outputs": [],
   "source": [
    "# import cv2\n",
    "# import time\n",
    "# from utils import iou\n",
    "# from scipy import spatial\n",
    "# from darkflow.net.build import TFNet\n",
    "\n",
    "# !pip install ultralytics\n",
    "from ultralytics import YOLO"
   ]
  },
  {
   "cell_type": "code",
   "execution_count": 5,
   "id": "87179732",
   "metadata": {},
   "outputs": [
    {
     "name": "stdout",
     "output_type": "stream",
     "text": [
      "Downloading https://github.com/ultralytics/assets/releases/download/v0.0.0/yolov8n.pt to yolov8n.pt...\n",
      "100%|██████████████████████████████████████| 6.23M/6.23M [00:00<00:00, 26.7MB/s]\n",
      "Ultralytics YOLOv8.0.47 🚀 Python-3.10.9 torch-1.13.1+cu117 CPU\n",
      "YOLOv8n summary (fused): 168 layers, 3151904 parameters, 0 gradients, 8.7 GFLOPs\n",
      "\n",
      "Downloading https://ultralytics.com/images/bus.jpg to bus.jpg...\n",
      "100%|████████████████████████████████████████| 476k/476k [00:00<00:00, 8.72MB/s]\n",
      "image 1/1 /mnt/c/Users/Ritvik/Documents/Spring2023/MachineLearning/AutoCBC/bus.jpg: 640x480 4 persons, 1 bus, 1 stop sign, 80.0ms\n",
      "Speed: 3.7ms preprocess, 80.0ms inference, 6.0ms postprocess per image at shape (1, 3, 640, 640)\n"
     ]
    }
   ],
   "source": [
    "!yolo predict model=yolov8n.pt source=\"https://ultralytics.com/images/bus.jpg\""
   ]
  },
  {
   "cell_type": "markdown",
   "id": "1c44ad33",
   "metadata": {},
   "source": []
  }
 ],
 "metadata": {
  "kernelspec": {
   "display_name": "ml",
   "language": "python",
   "name": "python3"
  },
  "language_info": {
   "codemirror_mode": {
    "name": "ipython",
    "version": 3
   },
   "file_extension": ".py",
   "mimetype": "text/x-python",
   "name": "python",
   "nbconvert_exporter": "python",
   "pygments_lexer": "ipython3",
   "version": "3.10.9"
  },
  "vscode": {
   "interpreter": {
    "hash": "0ded2cb331351ed1c13e44f0b111baa034532819e730db98a9d049a64313c247"
   }
  }
 },
 "nbformat": 4,
 "nbformat_minor": 5
}
